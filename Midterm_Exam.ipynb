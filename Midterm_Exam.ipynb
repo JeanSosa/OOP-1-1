{
  "nbformat": 4,
  "nbformat_minor": 0,
  "metadata": {
    "colab": {
      "name": "Midterm Exam.ipynb",
      "provenance": [],
      "authorship_tag": "ABX9TyNriTDRp9zp+GZtP+VdNxLj",
      "include_colab_link": true
    },
    "kernelspec": {
      "name": "python3",
      "display_name": "Python 3"
    },
    "language_info": {
      "name": "python"
    }
  },
  "cells": [
    {
      "cell_type": "markdown",
      "metadata": {
        "id": "view-in-github",
        "colab_type": "text"
      },
      "source": [
        "<a href=\"https://colab.research.google.com/github/JeanSosa/OOP-1-1/blob/main/Midterm_Exam.ipynb\" target=\"_parent\"><img src=\"https://colab.research.google.com/assets/colab-badge.svg\" alt=\"Open In Colab\"/></a>"
      ]
    },
    {
      "cell_type": "code",
      "execution_count": 6,
      "metadata": {
        "colab": {
          "base_uri": "https://localhost:8080/"
        },
        "id": "bY80ryCGJHd7",
        "outputId": "3dec790f-856e-4d1e-e820-a41c98983e4b"
      },
      "outputs": [
        {
          "output_type": "stream",
          "name": "stdout",
          "text": [
            "Enter the temperature in Celsius: 30\n",
            "303.15 Kelvin\n",
            "86.0 Fahrenheit\n",
            "Enter the temperature in Fahrenheit: 80\n",
            "26.666666666666668 Celsius\n",
            "Enter the temperature in Kelvin: 303\n",
            "29.850000000000023 Celsius\n"
          ]
        }
      ],
      "source": [
        "def main():\n",
        " class TemperatureConversion:\n",
        "  def __init__(self, temp=1):\n",
        "   self._temp = temp\n",
        " class CelsiusToFahrenheit(TemperatureConversion):\n",
        "  def conversion(self):\n",
        "   return (self._temp * 9) / 5 + 32\n",
        " class CelsiusToKelvin(TemperatureConversion):\n",
        "  def conversion(self):\n",
        "   return self._temp + 273.15\n",
        " class FahrenheitToCelsius(TemperatureConversion):\n",
        "  def conversion(self):\n",
        "   return ((self._temp - 32) * 5) / 9\n",
        " class KelvinToCelsius(TemperatureConversion):\n",
        "  def conversion(self):\n",
        "   return self._temp - 273.15\n",
        "\n",
        " tempInCelsius = float(input(\"Enter the temperature in Celsius: \"))\n",
        " convert = CelsiusToKelvin(tempInCelsius)\n",
        " print(str(convert.conversion()) + \" Kelvin\")\n",
        " convert = CelsiusToFahrenheit(tempInCelsius)\n",
        " print(str(convert.conversion()) + \" Fahrenheit\")\n",
        " tempInFahrenheit = float(input(\"Enter the temperature in Fahrenheit: \"))\n",
        " convert = FahrenheitToCelsius(tempInFahrenheit)\n",
        " print(str(convert.conversion()) + \" Celsius\")\n",
        " tempInKelvin = float(input(\"Enter the temperature in Kelvin: \"))\n",
        " convert = KelvinToCelsius(tempInKelvin)\n",
        " print(str(convert.conversion()) + \" Celsius\")\n",
        "\n",
        "\n",
        "main()"
      ]
    },
    {
      "cell_type": "code",
      "source": [
        "from tkinter import *\n",
        "\n",
        "window = Tk()\n",
        "window.title('Midterm in OOP')\n",
        "window.geometry(\"500x310+10+20\")\n",
        "\n",
        "class Midterm:\n",
        "    def __init__(self,mid):\n",
        "        self.label1=Label(mid,text=\"Enter your fullname:\", font = (\"comfortaa\",12),  fg=\"red\")\n",
        "        self.label1.place(x=45,y=100)\n",
        "\n",
        "        self.field1=Entry(bd=3,font=12)\n",
        "        self.field1.place(x=250,y=100)\n",
        "\n",
        "        self.button1=Button(mid,text=\"Click to display your Fullname\",font = (\"comfortaa\",9), fg=\"red\",command=self.display)\n",
        "        self.button1.place(x=45,y=150)\n",
        "\n",
        "        self.field2=Entry(bd=3,font=12)\n",
        "        self.field2.place(x=250,y=150)\n",
        "\n",
        "    def display(self):\n",
        "        self.field2.delete(0, 'end')\n",
        "        name=str(self.field1.get())\n",
        "        self.field2.insert(END,str(name))\n",
        "\n",
        "\n",
        "mywin = Midterm(window)\n",
        "window.mainloop()"
      ],
      "metadata": {
        "id": "-juirgR-jnDg"
      },
      "execution_count": null,
      "outputs": []
    }
  ]
}