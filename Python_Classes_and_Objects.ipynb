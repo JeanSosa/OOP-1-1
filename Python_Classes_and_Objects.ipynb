{
  "nbformat": 4,
  "nbformat_minor": 0,
  "metadata": {
    "colab": {
      "name": "Python Classes and Objects.ipynb",
      "provenance": [],
      "authorship_tag": "ABX9TyPPX+Ph4sO3ngQbdY23+lJz",
      "include_colab_link": true
    },
    "kernelspec": {
      "name": "python3",
      "display_name": "Python 3"
    },
    "language_info": {
      "name": "python"
    }
  },
  "cells": [
    {
      "cell_type": "markdown",
      "metadata": {
        "id": "view-in-github",
        "colab_type": "text"
      },
      "source": [
        "<a href=\"https://colab.research.google.com/github/JeanSosa/OOP-1-1/blob/main/Python_Classes_and_Objects.ipynb\" target=\"_parent\"><img src=\"https://colab.research.google.com/assets/colab-badge.svg\" alt=\"Open In Colab\"/></a>"
      ]
    },
    {
      "cell_type": "markdown",
      "source": [
        "##Class"
      ],
      "metadata": {
        "id": "-cLy7Ksly-cT"
      }
    },
    {
      "cell_type": "code",
      "execution_count": null,
      "metadata": {
        "id": "O100BKNBy3ea"
      },
      "outputs": [],
      "source": [
        "class MyClass:\n",
        "  pass"
      ]
    },
    {
      "cell_type": "code",
      "source": [
        "class MyClass:\n",
        "  def __init__(self,name,age):\n",
        "    self.name = name\n",
        "    self.age = age\n",
        "\n",
        "  def display(self):\n",
        "    print(self.name, self.age)\n",
        "\n",
        "person = MyClass(\"Exequiel\",19)\n",
        "\n",
        "person.display()"
      ],
      "metadata": {
        "colab": {
          "base_uri": "https://localhost:8080/"
        },
        "id": "su4ATa_WzuXf",
        "outputId": "f58b63fc-4106-4b86-fb43-fce470129dd0"
      },
      "execution_count": null,
      "outputs": [
        {
          "output_type": "stream",
          "name": "stdout",
          "text": [
            "Exequiel 19\n"
          ]
        }
      ]
    },
    {
      "cell_type": "code",
      "source": [
        "class Rectangle:\n",
        "  def __init__(self,l,w):\n",
        "    self.l = l\n",
        "    self.w = w\n",
        "\n",
        "  def Area(self):\n",
        "    print(self.l * self.w)\n",
        "\n",
        "rect = Rectangle(7,3)\n",
        "rect.Area()"
      ],
      "metadata": {
        "colab": {
          "base_uri": "https://localhost:8080/"
        },
        "id": "QuCdGdQY3JJ-",
        "outputId": "4ed55619-c483-405a-c28b-4f39abd02e48"
      },
      "execution_count": null,
      "outputs": [
        {
          "output_type": "stream",
          "name": "stdout",
          "text": [
            "21\n"
          ]
        }
      ]
    }
  ]
}