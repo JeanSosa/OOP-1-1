{
  "nbformat": 4,
  "nbformat_minor": 0,
  "metadata": {
    "colab": {
      "name": "Python Classes and Objects(1).ipynb",
      "provenance": [],
      "authorship_tag": "ABX9TyPb0dskNMjf2brtw79Y9ZeO",
      "include_colab_link": true
    },
    "kernelspec": {
      "name": "python3",
      "display_name": "Python 3"
    },
    "language_info": {
      "name": "python"
    }
  },
  "cells": [
    {
      "cell_type": "markdown",
      "metadata": {
        "id": "view-in-github",
        "colab_type": "text"
      },
      "source": [
        "<a href=\"https://colab.research.google.com/github/JeanSosa/OOP-1-1/blob/main/Python_Classes_and_Objects(1).ipynb\" target=\"_parent\"><img src=\"https://colab.research.google.com/assets/colab-badge.svg\" alt=\"Open In Colab\"/></a>"
      ]
    },
    {
      "cell_type": "markdown",
      "source": [
        "##Application 3"
      ],
      "metadata": {
        "id": "RSYNpAqw4mz7"
      }
    },
    {
      "cell_type": "markdown",
      "source": [
        "Define an Area"
      ],
      "metadata": {
        "id": "V8wUZTxj5BD6"
      }
    },
    {
      "cell_type": "code",
      "execution_count": 2,
      "metadata": {
        "colab": {
          "base_uri": "https://localhost:8080/"
        },
        "id": "mSAkKPh44k83",
        "outputId": "50e244b8-6e76-4a13-c038-5ddf54c7faf0"
      },
      "outputs": [
        {
          "output_type": "stream",
          "name": "stdout",
          "text": [
            "Input radius: 5\n",
            "The area of a cirle is 78.5\n"
          ]
        }
      ],
      "source": [
        "class Circle:\n",
        "  def __init__(self,radius):\n",
        "    self.radius = radius\n",
        "\n",
        "  def Area(self):\n",
        "    return(3.14*(self.radius * self.radius))\n",
        "\n",
        "input_area = float(input(\"Input radius: \"))\n",
        "radius1 = Circle(input_area)\n",
        "\n",
        "print(\"The area of a cirle is\",round(radius1.Area(),3))"
      ]
    },
    {
      "cell_type": "markdown",
      "source": [
        "Define a perimeter"
      ],
      "metadata": {
        "id": "F-swoN4O7HaO"
      }
    },
    {
      "cell_type": "code",
      "source": [
        "class circle:\n",
        "  def __init__(self, radius):\n",
        "    self.radius = radius\n",
        "\n",
        "  def Perimeter(self):\n",
        "    return (2 * 3.14 * self.radius)\n",
        "\n",
        "input_perimeter = float(input(\"Input radius: \"))\n",
        "radius1 = circle(input_perimeter)\n",
        "print(\"The perimeter of circle is\",round(radius1.Perimeter(),2))"
      ],
      "metadata": {
        "colab": {
          "base_uri": "https://localhost:8080/"
        },
        "id": "krHf71k_7Ozv",
        "outputId": "c9b74987-cb41-4c91-8258-df5f4edbe1df"
      },
      "execution_count": 3,
      "outputs": [
        {
          "output_type": "stream",
          "name": "stdout",
          "text": [
            "Input radius: 5\n",
            "The perimeter of circle is 31.4\n"
          ]
        }
      ]
    }
  ]
}