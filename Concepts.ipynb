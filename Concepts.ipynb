{
  "nbformat": 4,
  "nbformat_minor": 0,
  "metadata": {
    "colab": {
      "name": "Untitled4.ipynb",
      "provenance": [],
      "authorship_tag": "ABX9TyNItKlp+rzlMwkFAgGseH6H",
      "include_colab_link": true
    },
    "kernelspec": {
      "name": "python3",
      "display_name": "Python 3"
    },
    "language_info": {
      "name": "python"
    }
  },
  "cells": [
    {
      "cell_type": "markdown",
      "metadata": {
        "id": "view-in-github",
        "colab_type": "text"
      },
      "source": [
        "<a href=\"https://colab.research.google.com/github/JeanSosa/OOP-1-1/blob/main/Concepts.ipynb\" target=\"_parent\"><img src=\"https://colab.research.google.com/assets/colab-badge.svg\" alt=\"Open In Colab\"/></a>"
      ]
    },
    {
      "cell_type": "markdown",
      "source": [
        "Classes with multiple objects"
      ],
      "metadata": {
        "id": "DXVy8EzGNcJO"
      }
    },
    {
      "cell_type": "code",
      "execution_count": null,
      "metadata": {
        "colab": {
          "base_uri": "https://localhost:8080/"
        },
        "id": "au5Z7efBJ9GH",
        "outputId": "2a6f56e9-ca81-4468-8e33-ecb36c321c2c"
      },
      "outputs": [
        {
          "output_type": "stream",
          "name": "stdout",
          "text": [
            "Griffon Vulture flies above the sky\n",
            "Common Crane flies above the sky\n",
            "Emu is the national bird of Australia\n"
          ]
        }
      ],
      "source": [
        "class Birds:\n",
        "  def __init__(self, bird_name):\n",
        "    self.bird_name = bird_name\n",
        "  def flying_birds(self):\n",
        "    print(f\"{self.bird_name} flies above the sky\")\n",
        "  def non_flying_birds(self):\n",
        "    print(f\"{self.bird_name} is the national bird of Australia\")\n",
        "\n",
        "vulture = Birds(\"Griffon Vulture\")\n",
        "crane = Birds(\"Common Crane\")\n",
        "emu = Birds(\"Emu\")\n",
        "\n",
        "vulture.flying_birds()\n",
        "crane.flying_birds()\n",
        "emu.non_flying_birds()"
      ]
    },
    {
      "cell_type": "markdown",
      "source": [
        "Encapsulation (mangling with double underscore)"
      ],
      "metadata": {
        "id": "-3DxnZSpPTHQ"
      }
    },
    {
      "cell_type": "code",
      "source": [
        "class foo:\n",
        "  def __init__(self, a, b):\n",
        "    self.__a = a\n",
        "    self.__b = b\n",
        "\n",
        "  def add(self):\n",
        "    return self.__a + self.__b\n",
        "\n",
        "object_foo = foo(3,4)\n",
        "object_foo.add()\n",
        "\n",
        "object_foo.__a = 6\n",
        "object_foo.__b = 9\n",
        "object_foo.add()"
      ],
      "metadata": {
        "colab": {
          "base_uri": "https://localhost:8080/"
        },
        "id": "ncfu3yZNPTX3",
        "outputId": "99d27731-0ad5-4eed-ad87-5380a8b6799b"
      },
      "execution_count": null,
      "outputs": [
        {
          "output_type": "execute_result",
          "data": {
            "text/plain": [
              "7"
            ]
          },
          "metadata": {},
          "execution_count": 5
        }
      ]
    },
    {
      "cell_type": "code",
      "source": [
        "class Counter:\n",
        "  def __init__(self):\n",
        "    self.current = 0\n",
        "  def increment(self):\n",
        "    self.current += 1\n",
        "  def value(self):\n",
        "    return self.current\n",
        "  def reset(self):\n",
        "    self.current = 0\n",
        "\n",
        "number = Counter()\n",
        "number.__current = 1\n",
        "\n",
        "number.increment()\n",
        "number.increment()\n",
        "number.increment()\n",
        "\n",
        "print(number.value())"
      ],
      "metadata": {
        "colab": {
          "base_uri": "https://localhost:8080/"
        },
        "id": "2sKmxgqMRloV",
        "outputId": "7bbbefd1-c9ae-4f2f-8cfe-5eb13a01349c"
      },
      "execution_count": null,
      "outputs": [
        {
          "output_type": "stream",
          "name": "stdout",
          "text": [
            "3\n"
          ]
        }
      ]
    },
    {
      "cell_type": "markdown",
      "source": [
        "Inheritance"
      ],
      "metadata": {
        "id": "2sgMF8PfVAoy"
      }
    },
    {
      "cell_type": "code",
      "source": [
        "class Person:\n",
        "  def __init__(self,firstname,surname):\n",
        "    self.firstname = firstname\n",
        "    self.surname = surname\n",
        "\n",
        "  def fullname(self):\n",
        "    print(self.firstname,self.surname)\n",
        "  \n",
        "person = Person(\"Jean\",\"Sosa\")\n",
        "person.fullname()\n",
        "\n",
        "class Teacher(Person):\n",
        "  pass\n",
        "\n",
        "person2 = Teacher(\"Maam\",\"Sayo\")\n",
        "person2.fullname()\n",
        "\n",
        "class Student(Person):\n",
        "  pass\n",
        "\n",
        "person3 = Student(\"Quiel\",\"Sosa\")\n",
        "person3.fullname()"
      ],
      "metadata": {
        "colab": {
          "base_uri": "https://localhost:8080/"
        },
        "id": "XgCFcvUkVB9q",
        "outputId": "ce241435-3ab8-471c-caa6-8254b795970b"
      },
      "execution_count": null,
      "outputs": [
        {
          "output_type": "stream",
          "name": "stdout",
          "text": [
            "Jean Sosa\n",
            "Maam Sayo\n",
            "Quiel Sosa\n"
          ]
        }
      ]
    },
    {
      "cell_type": "markdown",
      "source": [
        "Polymorphism"
      ],
      "metadata": {
        "id": "jv81pg-eXwDZ"
      }
    },
    {
      "cell_type": "code",
      "source": [
        "class RegularPolygon:\n",
        "  def __init__(self,side):\n",
        "    self.side = side\n",
        "\n",
        "class Square(RegularPolygon):\n",
        "  def area(self):\n",
        "    return self.side*self.side\n",
        "\n",
        "class EquilateralTRiangle(RegularPolygon):\n",
        "  def area(self):\n",
        "    return self.side*self.side*0.433\n",
        "\n",
        "obj1 = Square(4)\n",
        "print(obj1.area())\n",
        "\n",
        "obj2 = EquilateralTRiangle(3)\n",
        "print(obj2.area())"
      ],
      "metadata": {
        "colab": {
          "base_uri": "https://localhost:8080/"
        },
        "id": "ZxRHjv-MXyek",
        "outputId": "76c11079-a54a-4fc2-9d8c-d69ee1db3b13"
      },
      "execution_count": null,
      "outputs": [
        {
          "output_type": "stream",
          "name": "stdout",
          "text": [
            "16\n",
            "3.897\n"
          ]
        }
      ]
    },
    {
      "cell_type": "code",
      "source": [
        "class data:\n",
        "  def __init__(self,firstname,lastname,prelim,midterm,final):\n",
        "   self.firstname = firstname\n",
        "   self.lastname = lastname\n",
        "   self.prelim = prelim\n",
        "   self.midterm = midterm\n",
        "   self.final = final\n",
        "\n",
        "  def printname(self):\n",
        "    print(self.firstname, self.lastname)\n",
        "\n",
        "class stud1(data):\n",
        "  def average(self):\n",
        "    return ((self.prelim + self.midterm + self.final)/3)\n",
        "\n",
        "\n",
        "fname_input1 = str(input(\"Enter Your First Name: \"))\n",
        "lname_input1 = str(input(\"Enter Your Last Name: \"))\n",
        "prelims_input1 = float(input(\"Prelims:\"))\n",
        "midterms_input1 = float(input(\"Midterm:\"))\n",
        "finals_input1 = float(input(\"Finals:\"))\n",
        "\n",
        "student1 = stud1(fname_input1, lname_input1,prelims_input1, midterms_input1, finals_input1)\n",
        "print(\"\\n\")\n",
        "student1.printname()\n",
        "print(\"Average:\" , round(student1.average(),2), \"\\n\")\n",
        "\n",
        "\n",
        "\n",
        "class stud2(data):\n",
        "  def average(self):\n",
        "    return ((self.prelim + self.midterm + self.final)/3)\n",
        "\n",
        "\n",
        "fname_input2 = str(input(\"Enter Your First Name: \"))\n",
        "lname_input2 = str(input(\"Enter Your Last Name: \"))\n",
        "prelims_input2 = float(input(\"Prelims:\"))\n",
        "midterms_input2 = float(input(\"Midterm:\"))\n",
        "finals_input2 = float(input(\"Finals:\"))\n",
        "\n",
        "student2 = stud2(fname_input2, lname_input2,prelims_input2, midterms_input2, finals_input2)\n",
        "print(\"\\n\")\n",
        "student2.printname()\n",
        "print(\"Average:\" , round(student2.average(),2), \"\\n\")\n",
        "\n",
        "\n",
        "class stud3(data):\n",
        "  def average(self):\n",
        "    return ((self.prelim + self.midterm + self.final)/3)\n",
        "\n",
        "\n",
        "fname_input3 = str(input(\"Enter Your First Name: \"))\n",
        "lname_input3 = str(input(\"Enter Your Last Name: \"))\n",
        "prelims_input3 = float(input(\"Prelims:\"))\n",
        "midterms_input3 = float(input(\"Midterm:\"))\n",
        "finals_input3 = float(input(\"Finals:\"))\n",
        "\n",
        "student3 = stud3(fname_input3, lname_input3,prelims_input3, midterms_input3, finals_input3)\n",
        "print(\"\\n\")\n",
        "student3.printname()\n",
        "print(\"Average:\" , round(student3.average(),2), \"\\n\")"
      ],
      "metadata": {
        "id": "Thhp3vbJxDPr",
        "outputId": "06cfbee6-e456-4a0a-d482-c2498b4340de",
        "colab": {
          "base_uri": "https://localhost:8080/"
        }
      },
      "execution_count": 3,
      "outputs": [
        {
          "output_type": "stream",
          "name": "stdout",
          "text": [
            "Enter Your First Name: Jean\n",
            "Enter Your Last Name: Sosa\n",
            "Prelims:68\n",
            "Midterm:100\n",
            "Finals:100\n",
            "\n",
            "\n",
            "Jean Sosa\n",
            "Average: 89.33 \n",
            "\n",
            "Enter Your First Name: Equi\n",
            "Enter Your Last Name: Sosa\n",
            "Prelims:61\n",
            "Midterm:100\n",
            "Finals:100\n",
            "\n",
            "\n",
            "Equi Sosa\n",
            "Average: 87.0 \n",
            "\n",
            "Enter Your First Name: Quiel\n",
            "Enter Your Last Name: Sosa\n",
            "Prelims:88\n",
            "Midterm:100\n",
            "Finals:100\n",
            "\n",
            "\n",
            "Quiel Sosa\n",
            "Average: 96.0 \n",
            "\n"
          ]
        }
      ]
    }
  ]
}