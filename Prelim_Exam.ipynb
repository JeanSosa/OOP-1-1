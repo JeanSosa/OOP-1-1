{
  "nbformat": 4,
  "nbformat_minor": 0,
  "metadata": {
    "colab": {
      "name": "Prelim Exam.ipynb",
      "provenance": [],
      "authorship_tag": "ABX9TyPO9Bp32iFkzSKmBLPogPw6",
      "include_colab_link": true
    },
    "kernelspec": {
      "name": "python3",
      "display_name": "Python 3"
    },
    "language_info": {
      "name": "python"
    }
  },
  "cells": [
    {
      "cell_type": "markdown",
      "metadata": {
        "id": "view-in-github",
        "colab_type": "text"
      },
      "source": [
        "<a href=\"https://colab.research.google.com/github/JeanSosa/OOP-1-1/blob/main/Prelim_Exam.ipynb\" target=\"_parent\"><img src=\"https://colab.research.google.com/assets/colab-badge.svg\" alt=\"Open In Colab\"/></a>"
      ]
    },
    {
      "cell_type": "code",
      "execution_count": 1,
      "metadata": {
        "colab": {
          "base_uri": "https://localhost:8080/"
        },
        "id": "opupEwIxT9C3",
        "outputId": "23191365-0877-47d6-bfee-f86c66779c6e"
      },
      "outputs": [
        {
          "output_type": "stream",
          "name": "stdout",
          "text": [
            "Fullname: Jean Exequiel Sosa\n",
            "Student_number: 202102079\n",
            "Age: 19\n",
            "School: Cavite State University\n",
            "Course: BS COMPUTER ENGINEERING\n"
          ]
        }
      ],
      "source": [
        "class Student:\n",
        "  def __init__(self,fullname,student_number,age,school,course):\n",
        "    self.fullname=fullname\n",
        "    self.student_number=student_number\n",
        "    self.age=age\n",
        "    self.school=school\n",
        "    self.course=course\n",
        "\n",
        "  def info(self):\n",
        "    print(\"Fullname:\",self.fullname)\n",
        "    print(\"Student_number:\",self.student_number)\n",
        "    print(\"Age:\",self.age)\n",
        "    print(\"School:\",self.school)\n",
        "    print(\"Course:\",self.course)\n",
        "\n",
        "myself = Student(\"Jean Exequiel Sosa\", \"202102079\", \"19\",\"Cavite State University\",\"BS COMPUTER ENGINEERING\")\n",
        "myself.info()"
      ]
    }
  ]
}