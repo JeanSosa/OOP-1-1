{
  "nbformat": 4,
  "nbformat_minor": 0,
  "metadata": {
    "colab": {
      "name": "Classes and Objectives.ipynb",
      "provenance": [],
      "authorship_tag": "ABX9TyMZ1Oc/YoQilnbkx+g6VF7U",
      "include_colab_link": true
    },
    "kernelspec": {
      "name": "python3",
      "display_name": "Python 3"
    },
    "language_info": {
      "name": "python"
    }
  },
  "cells": [
    {
      "cell_type": "markdown",
      "metadata": {
        "id": "view-in-github",
        "colab_type": "text"
      },
      "source": [
        "<a href=\"https://colab.research.google.com/github/JeanSosa/OOP-1-1/blob/main/Classes_and_Objectives.ipynb\" target=\"_parent\"><img src=\"https://colab.research.google.com/assets/colab-badge.svg\" alt=\"Open In Colab\"/></a>"
      ]
    },
    {
      "cell_type": "code",
      "execution_count": 2,
      "metadata": {
        "colab": {
          "base_uri": "https://localhost:8080/"
        },
        "id": "vgv2nfGh3PGJ",
        "outputId": "0e2af38f-d449-4619-dba4-7b736152a7e6"
      },
      "outputs": [
        {
          "output_type": "stream",
          "name": "stdout",
          "text": [
            "Jean Exequiel Sosa 202102079 19 BSCpE CvSU\n"
          ]
        }
      ],
      "source": [
        "class OOP_1_1:\n",
        "  def __init__(self, fullname, student_no, age, course, school):\n",
        "    self.fullname = fullname\n",
        "    self.student_no = student_no\n",
        "    self.age = age\n",
        "    self.course = course\n",
        "    self.school = school\n",
        "\n",
        "  def Info(self):\n",
        "    print(self.fullname,self.student_no,self.age,self.course,self.school)\n",
        "\n",
        "student = OOP_1_1(\"Jean Exequiel Sosa\", 202102079, 19, \"BSCpE\", \"CvSU\")\n",
        "student.Info()"
      ]
    }
  ]
}