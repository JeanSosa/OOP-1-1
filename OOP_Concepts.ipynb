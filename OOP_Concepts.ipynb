{
  "nbformat": 4,
  "nbformat_minor": 0,
  "metadata": {
    "colab": {
      "name": "Untitled9.ipynb",
      "provenance": [],
      "authorship_tag": "ABX9TyOE4m00zf8m9WUlEyEGGVjj",
      "include_colab_link": true
    },
    "kernelspec": {
      "name": "python3",
      "display_name": "Python 3"
    },
    "language_info": {
      "name": "python"
    }
  },
  "cells": [
    {
      "cell_type": "markdown",
      "metadata": {
        "id": "view-in-github",
        "colab_type": "text"
      },
      "source": [
        "<a href=\"https://colab.research.google.com/github/JeanSosa/OOP-1-1/blob/main/OOP_Concepts.ipynb\" target=\"_parent\"><img src=\"https://colab.research.google.com/assets/colab-badge.svg\" alt=\"Open In Colab\"/></a>"
      ]
    },
    {
      "cell_type": "code",
      "source": [
        "class data:\n",
        "  def __init__(self,name,prelim,midterm,final):\n",
        "   self.__name = name\n",
        "   self.__prelim = prelim\n",
        "   self.__midterm = midterm\n",
        "   self.__final = final\n",
        "\n",
        "  def printname(self):\n",
        "    print(self.__name)\n",
        "  def Grade(self):\n",
        "    return (round(self.__prelim + self.__midterm + self.__final)/3)\n",
        "\n",
        "class stud1(data):\n",
        "  pass\n",
        "  \n",
        "fname_input1 = str(input(\"Enter Your Name: \"))\n",
        "prelims_input1 = float(input(\"Prelims:\"))\n",
        "midterms_input1 = float(input(\"Midterm:\"))\n",
        "finals_input1 = float(input(\"Finals:\"))\n",
        "\n",
        "student1 = stud1(fname_input1,prelims_input1, midterms_input1, finals_input1)\n",
        "print(\"\\n\")\n",
        "\n",
        "\n",
        "class stud2(data):\n",
        "  pass\n",
        "  \n",
        "fname_input2 = str(input(\"Enter Your Name: \"))\n",
        "prelims_input2 = float(input(\"Prelims:\"))\n",
        "midterms_input2 = float(input(\"Midterm:\"))\n",
        "finals_input2 = float(input(\"Finals:\"))\n",
        "\n",
        "student2 = stud2(fname_input2, prelims_input2, midterms_input2, finals_input2)\n",
        "print(\"\\n\")\n",
        "\n",
        "\n",
        "class stud3(data):\n",
        "  pass\n",
        " \n",
        "fname_input3 = str(input(\"Enter Your Name: \"))\n",
        "prelims_input3 = float(input(\"Prelims:\"))\n",
        "midterms_input3 = float(input(\"Midterm:\"))\n",
        "finals_input3 = float(input(\"Finals:\"))\n",
        "\n",
        "student3 = stud3(fname_input3,prelims_input3, midterms_input3, finals_input3)\n",
        "print(\"\\n\")\n",
        "\n",
        "\n",
        "name = str(input(\"Enter Your Name:\"))\n",
        "if name == (fname_input1):\n",
        "  print(\"\\n\", \"Grade: \", round(student1.Grade(),2))\n",
        "else: \n",
        "  if name == (fname_input2):\n",
        "    print(\"\\n\", \"Grade: \", round(student2.Grade(),2))\n",
        "  else:\n",
        "    if name == (fname_input3):\n",
        "      print(\"\\n\", \"Grade: \", round(student3.Grade(),2))\n",
        "    else:\n",
        "      if name == \"all\":\n",
        "        print(\"Name: \", fname_input1, \"Grade: \", round(student1.Grade(),2), \"\\n\", \n",
        "              \"Name: \", fname_input2, \"Grade: \", round(student2.Grade(),2), \"\\n\",\n",
        "              \"Name: \", fname_input3, \"Grade: \", round(student3.Grade(),2), \"\\n\")\n",
        "      else:\n",
        "        print(\"Student Info Unavailable\")"
      ],
      "metadata": {
        "colab": {
          "base_uri": "https://localhost:8080/"
        },
        "id": "FH712b6MrHkW",
        "outputId": "d66a4a73-a694-4922-e4d9-780fcdc6e10f"
      },
      "execution_count": 13,
      "outputs": [
        {
          "output_type": "stream",
          "name": "stdout",
          "text": [
            "Enter Your Name: Jean\n",
            "Prelims:89\n",
            "Midterm:99\n",
            "Finals:79\n",
            "\n",
            "\n",
            "Enter Your Name: Equi\n",
            "Prelims:88\n",
            "Midterm:98\n",
            "Finals:78\n",
            "\n",
            "\n",
            "Enter Your Name: Quiel\n",
            "Prelims:99\n",
            "Midterm:99\n",
            "Finals:99\n",
            "\n",
            "\n",
            "Enter Your Name:Jean\n",
            "\n",
            " Grade:  89.0\n"
          ]
        }
      ]
    }
  ]
}